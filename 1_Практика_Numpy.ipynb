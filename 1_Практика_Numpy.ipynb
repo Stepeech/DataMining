{
  "cells": [
    {
      "cell_type": "markdown",
      "metadata": {
        "id": "view-in-github",
        "colab_type": "text"
      },
      "source": [
        "<a href=\"https://colab.research.google.com/github/Stepeech/DataMining/blob/main/1_%D0%9F%D1%80%D0%B0%D0%BA%D1%82%D0%B8%D0%BA%D0%B0_Numpy.ipynb\" target=\"_parent\"><img src=\"https://colab.research.google.com/assets/colab-badge.svg\" alt=\"Open In Colab\"/></a>"
      ]
    },
    {
      "cell_type": "markdown",
      "metadata": {
        "id": "BF4grSYKg73V"
      },
      "source": [
        "# Практика Numpy\n",
        "\n",
        "1. Скачайте этот блокнот к себе.\n",
        "2. Заполните пропущенные ячейки, отвечая на заданные вопросы. Там должен быть код! (если не сказано обратное)\n",
        "3. Сохраните результат в своём гитхаб репозитории.\n",
        "\n",
        "#### Полезная литература\n",
        "- [**Блокнот с теорией**](https://clck.ru/35fwMP)\n",
        "- http://www.numpy.org/\n",
        "- https://jakevdp.github.io/PythonDataScienceHandbook/02.00-introduction-to-numpy.html\n",
        "- https://docs.scipy.org/doc/numpy/user/quickstart.html\n"
      ]
    },
    {
      "cell_type": "markdown",
      "metadata": {
        "id": "M-XimTy4g73X"
      },
      "source": [
        "1) Импортировать numpy и написать версию"
      ]
    },
    {
      "cell_type": "code",
      "execution_count": null,
      "metadata": {
        "id": "edTYJytqg73Y",
        "colab": {
          "base_uri": "https://localhost:8080/"
        },
        "outputId": "e2c874cd-fe7d-49a7-c96a-10de42d3794c"
      },
      "outputs": [
        {
          "output_type": "stream",
          "name": "stdout",
          "text": [
            "1.23.5\n"
          ]
        }
      ],
      "source": [
        "import numpy as np\n",
        "print(np.__version__)"
      ]
    },
    {
      "cell_type": "markdown",
      "metadata": {
        "id": "Js6HVXOxg73Y"
      },
      "source": [
        "2) Создать нулевой вектор размера 10"
      ]
    },
    {
      "cell_type": "code",
      "execution_count": null,
      "metadata": {
        "id": "nm7ledVLg73Y",
        "colab": {
          "base_uri": "https://localhost:8080/"
        },
        "outputId": "e06a16ea-d884-4bf9-8203-5ca30b837e03"
      },
      "outputs": [
        {
          "output_type": "execute_result",
          "data": {
            "text/plain": [
              "array([0, 1, 2, 3, 4, 5, 6, 7, 8, 9])"
            ]
          },
          "metadata": {},
          "execution_count": 4
        }
      ],
      "source": [
        "np.arange(10)"
      ]
    },
    {
      "cell_type": "markdown",
      "metadata": {
        "id": "8SDeVDHPg73Z"
      },
      "source": [
        "3) Создать вектор заполненный 7-ами размера 7"
      ]
    },
    {
      "cell_type": "code",
      "execution_count": null,
      "metadata": {
        "id": "ckz5rNtug73Z",
        "colab": {
          "base_uri": "https://localhost:8080/"
        },
        "outputId": "8097ccd5-193f-4351-dc69-1ff86383e43b"
      },
      "outputs": [
        {
          "output_type": "execute_result",
          "data": {
            "text/plain": [
              "array([7, 7, 7, 7, 7, 7, 7])"
            ]
          },
          "metadata": {},
          "execution_count": 9
        }
      ],
      "source": [
        "np.full(7,7)"
      ]
    },
    {
      "cell_type": "markdown",
      "metadata": {
        "id": "3HFGpanUg73Z"
      },
      "source": [
        "4) Создать вектор заполненный четными числами от 10 до 100"
      ]
    },
    {
      "cell_type": "code",
      "execution_count": null,
      "metadata": {
        "id": "PxQfwkHFg73Z",
        "colab": {
          "base_uri": "https://localhost:8080/"
        },
        "outputId": "7043080a-2832-4fa5-cc4c-c8ecbcb58525"
      },
      "outputs": [
        {
          "output_type": "execute_result",
          "data": {
            "text/plain": [
              "array([ 10,  12,  14,  16,  18,  20,  22,  24,  26,  28,  30,  32,  34,\n",
              "        36,  38,  40,  42,  44,  46,  48,  50,  52,  54,  56,  58,  60,\n",
              "        62,  64,  66,  68,  70,  72,  74,  76,  78,  80,  82,  84,  86,\n",
              "        88,  90,  92,  94,  96,  98, 100])"
            ]
          },
          "metadata": {},
          "execution_count": 11
        }
      ],
      "source": [
        "np.arange(10,102,2)"
      ]
    },
    {
      "cell_type": "markdown",
      "metadata": {
        "id": "Kr_pZe-eg73a"
      },
      "source": [
        "5) Создать массив случайных чисел и развернуть его задом наперёд"
      ]
    },
    {
      "cell_type": "code",
      "execution_count": null,
      "metadata": {
        "id": "n-z2Zbhkg73a",
        "colab": {
          "base_uri": "https://localhost:8080/"
        },
        "outputId": "0d1bb893-f683-455c-effe-aa64cb4c75d8"
      },
      "outputs": [
        {
          "output_type": "stream",
          "name": "stdout",
          "text": [
            "[0.83846092 0.87014244 0.63276202 0.51798071 0.42448207]\n",
            "[0.42448207 0.51798071 0.63276202 0.87014244 0.83846092]\n"
          ]
        }
      ],
      "source": [
        "a = np.random.random(5)\n",
        "print(a)\n",
        "a = a[::-1]\n",
        "print(a)"
      ]
    },
    {
      "cell_type": "markdown",
      "metadata": {
        "id": "wFsBRv3Yg73a"
      },
      "source": [
        "6) Создать двумерную матрицу размера 3 на 3, заполненную числами от 0 до 9"
      ]
    },
    {
      "cell_type": "code",
      "execution_count": null,
      "metadata": {
        "id": "FBHjViULg73a",
        "colab": {
          "base_uri": "https://localhost:8080/"
        },
        "outputId": "fbaf689c-fe08-445b-9beb-4939ca3d1bdb"
      },
      "outputs": [
        {
          "output_type": "execute_result",
          "data": {
            "text/plain": [
              "array([[0, 1, 2],\n",
              "       [3, 4, 5],\n",
              "       [6, 7, 8]])"
            ]
          },
          "metadata": {},
          "execution_count": 18
        }
      ],
      "source": [
        "np.arange(9).reshape(3,3)"
      ]
    },
    {
      "cell_type": "markdown",
      "metadata": {
        "id": "DSB6smQyg73a"
      },
      "source": [
        "7) Создать матрицу размера 4 на 4 с единицами на диагонали смещеной на один наверх."
      ]
    },
    {
      "cell_type": "code",
      "execution_count": null,
      "metadata": {
        "id": "P_hy17H9g73b",
        "colab": {
          "base_uri": "https://localhost:8080/"
        },
        "outputId": "67cffdaf-622c-4a79-ad60-17ab51377f9b"
      },
      "outputs": [
        {
          "output_type": "stream",
          "name": "stdout",
          "text": [
            "[[0. 1. 0. 0.]\n",
            " [0. 0. 1. 0.]\n",
            " [0. 0. 0. 1.]\n",
            " [0. 0. 0. 0.]]\n"
          ]
        }
      ],
      "source": [
        "a = np.zeros(16).reshape(4,4)\n",
        "a = np.diag(np.ones(3), k = 1)\n",
        "print(a)"
      ]
    },
    {
      "cell_type": "markdown",
      "metadata": {
        "id": "hLSsjUbPg73b"
      },
      "source": [
        "8) Создать матрицу с числами в диапазоне от 1 до 4 по диагонали. В других ячейках матрицы должны быть семерки."
      ]
    },
    {
      "cell_type": "code",
      "execution_count": null,
      "metadata": {
        "id": "H1N9NhU_g73b",
        "colab": {
          "base_uri": "https://localhost:8080/"
        },
        "outputId": "f3df97d4-ca36-41b5-85ba-4cdfb1a4fecb"
      },
      "outputs": [
        {
          "output_type": "stream",
          "name": "stdout",
          "text": [
            "[[1 7 7 7]\n",
            " [7 2 7 7]\n",
            " [7 7 3 7]\n",
            " [7 7 7 4]]\n"
          ]
        }
      ],
      "source": [
        "a = np.diag(np.arange(1,5))\n",
        "a[a==0] = 7\n",
        "print(a)"
      ]
    },
    {
      "cell_type": "markdown",
      "metadata": {
        "id": "A4Z7Hb96g73b"
      },
      "source": [
        "9) Создать матрицу размера 5 на 5 заполненную чилами от 0 до 4 в строках."
      ]
    },
    {
      "cell_type": "code",
      "execution_count": null,
      "metadata": {
        "id": "JBWWjMdvg73b",
        "colab": {
          "base_uri": "https://localhost:8080/"
        },
        "outputId": "b9a37b71-e46e-44d3-f76c-efdecb081916"
      },
      "outputs": [
        {
          "output_type": "stream",
          "name": "stdout",
          "text": [
            "[[0. 1. 2. 3. 4.]\n",
            " [0. 1. 2. 3. 4.]\n",
            " [0. 1. 2. 3. 4.]\n",
            " [0. 1. 2. 3. 4.]\n",
            " [0. 1. 2. 3. 4.]]\n"
          ]
        }
      ],
      "source": [
        "a = np.zeros((5,5))\n",
        "b = np.arange(5)\n",
        "print(a+b)"
      ]
    },
    {
      "cell_type": "markdown",
      "metadata": {
        "id": "0nPC4cNcg73b"
      },
      "source": [
        "10) Создать матрицу случайных чисел размера 10 на 10 и отнять среднее по строкам из каждого элемента строки"
      ]
    },
    {
      "cell_type": "code",
      "execution_count": null,
      "metadata": {
        "id": "DiXDOccEg73c",
        "colab": {
          "base_uri": "https://localhost:8080/"
        },
        "outputId": "9b81ef76-19dc-42ef-ca7f-70fb4a899e96"
      },
      "outputs": [
        {
          "output_type": "stream",
          "name": "stdout",
          "text": [
            "[[-0.22449015 -0.49878648 -0.06767343  0.23331601 -0.2704804  -0.01595814\n",
            "   0.27556558 -0.22660623 -0.43696051  0.03879109]\n",
            " [ 0.12895942  0.32951616 -0.25382919  0.40441465  0.05855661 -0.12512646\n",
            "   0.44106824 -0.02340933  0.44177159 -0.54818221]\n",
            " [ 0.13489562 -0.35533838  0.47629471 -0.25514008 -0.45101892 -0.38526184\n",
            "   0.30650672  0.12539782 -0.43416933  0.04928944]\n",
            " [ 0.10419797 -0.52450855  0.38283684  0.41403874 -0.22906998  0.03918872\n",
            "   0.16362087  0.17062428 -0.13201242  0.16188139]\n",
            " [ 0.34144569 -0.0108149   0.02127695 -0.14356971 -0.32021126 -0.4417866\n",
            "   0.32804929 -0.06510851 -0.3326774   0.12029114]\n",
            " [-0.22903497  0.10815763 -0.27360491 -0.1927801   0.48394128 -0.20034859\n",
            "   0.40996423  0.34128555  0.36236968  0.0210072 ]\n",
            " [ 0.13596791  0.06999072  0.06681818 -0.21324988 -0.32885414  0.37271778\n",
            "  -0.06606946 -0.3005411   0.346684    0.03300321]\n",
            " [ 0.08143836 -0.32488812 -0.30126826 -0.5307987  -0.16975082  0.01773126\n",
            "   0.38100129  0.46346876  0.31434569 -0.0864776 ]\n",
            " [-0.11283543 -0.45716403  0.4351292  -0.53450868 -0.36001374  0.38570168\n",
            "  -0.48133533 -0.07396496  0.41495473  0.1235419 ]\n",
            " [-0.18762278  0.24672896  0.19923634  0.26346869 -0.16272722  0.10774436\n",
            "   0.33470795  0.33557719 -0.1596287  -0.02882133]]\n"
          ]
        }
      ],
      "source": [
        "a = np.random.random((10,10))\n",
        "b = a - a.mean(axis=1)\n",
        "print(b)"
      ]
    },
    {
      "cell_type": "markdown",
      "metadata": {
        "id": "ALlG8EA5g73c"
      },
      "source": [
        "11) Создать матрицу случайных чисел размера 10 на 10 и отнять медиану по столбцам из каждого элемента столбца  "
      ]
    },
    {
      "cell_type": "code",
      "execution_count": null,
      "metadata": {
        "id": "J7HvCuXFg73c",
        "colab": {
          "base_uri": "https://localhost:8080/"
        },
        "outputId": "ed5a28a8-7333-4777-fdd7-37017217c2de"
      },
      "outputs": [
        {
          "output_type": "stream",
          "name": "stdout",
          "text": [
            "[[-0.25105993  0.0559487   0.19743995  0.26195982 -0.07786137  0.37681694\n",
            "  -0.02608833  0.00219243  0.40812657  0.26696631]\n",
            " [-0.26531232 -0.32599088 -0.33381593  0.08994384  0.03614862 -0.07134678\n",
            "  -0.21034966 -0.00219243  0.49598175 -0.09780308]\n",
            " [ 0.18373444 -0.0559487   0.22893968 -0.56281348 -0.35845935  0.38185403\n",
            "  -0.28289727 -0.27219084  0.22994959  0.0936396 ]\n",
            " [ 0.41155161 -0.53017141  0.24027619 -0.56420422  0.36461303 -0.2664263\n",
            "   0.26127714  0.44474392 -0.26414073 -0.37207466]\n",
            " [-0.01583398  0.2151267   0.29643089  0.30594033 -0.30221823 -0.13156203\n",
            "   0.41033971 -0.25030911 -0.08653211  0.3092848 ]\n",
            " [-0.2330297  -0.51642337 -0.37449757 -0.03295666  0.5760828   0.1112751\n",
            "   0.01753204  0.2677871   0.08653211 -0.16705137]\n",
            " [-0.38237555  0.08337154  0.08899682 -0.30715333 -0.3940518   0.23900795\n",
            "  -0.23588818 -0.02636053 -0.12402216 -0.0936396 ]\n",
            " [ 0.39058186 -0.54725305 -0.08899682  0.39506687 -0.03614862  0.00373417\n",
            "   0.12513454  0.30494038 -0.0870733   0.26969665]\n",
            " [ 0.37014711  0.06793162 -0.47467512  0.03295666  0.06652874 -0.00373417\n",
            "  -0.01753204 -0.05617051  0.36225126  0.28817315]\n",
            " [ 0.01583398  0.12769191 -0.38318589 -0.55425397  0.16677823 -0.39357561\n",
            "   0.25919665  0.13359092 -0.1196593  -0.28421513]]\n"
          ]
        }
      ],
      "source": [
        "a = np.random.random((10,10))\n",
        "b = a - np.median(a, axis=0)\n",
        "\n",
        "print(b)"
      ]
    },
    {
      "cell_type": "markdown",
      "metadata": {
        "id": "49ooRWtKg73c"
      },
      "source": [
        "12) Создать матрицу случайных чисел 5x5. Добавить к ней столбецы максимумов и минимумов по строкам. Получится матрица 5x7.  "
      ]
    },
    {
      "cell_type": "code",
      "execution_count": null,
      "metadata": {
        "id": "fxazLdb9g73c",
        "colab": {
          "base_uri": "https://localhost:8080/"
        },
        "outputId": "261b7ae6-b21a-448e-8f35-ad35a182f74b"
      },
      "outputs": [
        {
          "output_type": "stream",
          "name": "stdout",
          "text": [
            "[[0.97097572 0.73707742 0.78451592 0.87338573 0.71432644 0.97097572\n",
            "  0.71432644]\n",
            " [0.30701793 0.21702527 0.45417157 0.61354188 0.64912449 0.64912449\n",
            "  0.21702527]\n",
            " [0.46052631 0.79774614 0.40022333 0.59170534 0.75139491 0.79774614\n",
            "  0.40022333]\n",
            " [0.92387888 0.79585045 0.53621562 0.69615014 0.56784787 0.92387888\n",
            "  0.53621562]\n",
            " [0.1431674  0.124189   0.09009995 0.85020971 0.0310134  0.85020971\n",
            "  0.0310134 ]]\n"
          ]
        }
      ],
      "source": [
        "a = np.random.random((5,5))\n",
        "max = np.array([np.max(a, axis=1)])\n",
        "min = np.array([np.min(a, axis=1)])\n",
        "\n",
        "a = np.hstack((a, max.T, min.T))\n",
        "print(a)"
      ]
    },
    {
      "cell_type": "markdown",
      "metadata": {
        "id": "qBuKa6-Ug73c"
      },
      "source": [
        "13) Вектор чисел от 1 до 51 преобразовать в вектор нечетных чисел и в вектор четных чисел, поменять их размерности, чтобы получились две матрица. Найти произведение этих матриц. Найти обратную матрицу эётого произведения.  "
      ]
    },
    {
      "cell_type": "code",
      "execution_count": null,
      "metadata": {
        "id": "8NJsiSU4g73d",
        "colab": {
          "base_uri": "https://localhost:8080/"
        },
        "outputId": "d3c738af-3e61-4b2f-b904-c1e77c79a2db"
      },
      "outputs": [
        {
          "output_type": "stream",
          "name": "stdout",
          "text": [
            "[[   2   12   30   56   90]\n",
            " [ 132  182  240  306  380]\n",
            " [ 462  552  650  756  870]\n",
            " [ 992 1122 1260 1406 1560]\n",
            " [1722 1892 2070 2256 2450]]\n",
            "0.0\n"
          ]
        }
      ],
      "source": [
        "a = np.arange(1,51)\n",
        "\n",
        "b = np.array([[x for x in a if x%2]])\n",
        "c = np.array([[x for x in a if not x%2]])\n",
        "\n",
        "b = b.reshape((5,5))\n",
        "c = c.reshape((5,5))\n",
        "\n",
        "bc = b*c\n",
        "print(bc)\n",
        "\n",
        "print(np.linalg.det(bc)) #определитель равен нулю, поэтому матрица не может быть инвентирована\n",
        "\n",
        "#print(np.linalg.inv(bc))"
      ]
    },
    {
      "cell_type": "markdown",
      "metadata": {
        "id": "dIqffVE8g73d"
      },
      "source": [
        "14) Создать 8x8 матрицу и заполнить её в шахматном порядке нулями и единицами."
      ]
    },
    {
      "cell_type": "code",
      "execution_count": null,
      "metadata": {
        "id": "khdfFTxgg73d",
        "colab": {
          "base_uri": "https://localhost:8080/"
        },
        "outputId": "c612f106-b712-4155-baab-1902b285dc42"
      },
      "outputs": [
        {
          "output_type": "stream",
          "name": "stdout",
          "text": [
            "[[1. 0. 1. 0. 1. 0. 1. 0.]\n",
            " [0. 1. 0. 1. 0. 1. 0. 1.]\n",
            " [1. 0. 1. 0. 1. 0. 1. 0.]\n",
            " [0. 1. 0. 1. 0. 1. 0. 1.]\n",
            " [1. 0. 1. 0. 1. 0. 1. 0.]\n",
            " [0. 1. 0. 1. 0. 1. 0. 1.]\n",
            " [1. 0. 1. 0. 1. 0. 1. 0.]\n",
            " [0. 1. 0. 1. 0. 1. 0. 1.]]\n"
          ]
        }
      ],
      "source": [
        "a = np.zeros((8,8))\n",
        "a[0::2, 0::2] = 1\n",
        "a[1::2, 1::2] = 1\n",
        "\n",
        "print(a)"
      ]
    }
  ],
  "metadata": {
    "kernelspec": {
      "display_name": "Python 3",
      "language": "python",
      "name": "python3"
    },
    "language_info": {
      "codemirror_mode": {
        "name": "ipython",
        "version": 3
      },
      "file_extension": ".py",
      "mimetype": "text/x-python",
      "name": "python",
      "nbconvert_exporter": "python",
      "pygments_lexer": "ipython3",
      "version": "3.8.0"
    },
    "colab": {
      "provenance": [],
      "include_colab_link": true
    }
  },
  "nbformat": 4,
  "nbformat_minor": 0
}